{
 "metadata": {
  "language_info": {
   "codemirror_mode": {
    "name": "ipython",
    "version": 3
   },
   "file_extension": ".py",
   "mimetype": "text/x-python",
   "name": "python",
   "nbconvert_exporter": "python",
   "pygments_lexer": "ipython3",
   "version": "3.9.0-final"
  },
  "orig_nbformat": 2,
  "kernelspec": {
   "name": "python3",
   "display_name": "Python 3.9.0 64-bit ('.venv')",
   "metadata": {
    "interpreter": {
     "hash": "2a7639f2ed52ab92c5e7d28e7cb74801b7c1f0b1fee49cafaee1e14db56e8fcc"
    }
   }
  }
 },
 "nbformat": 4,
 "nbformat_minor": 2,
 "cells": [
  {
   "source": [
    "## Data Analysis with Pandas\n",
    "## Bike Rental Stats \n",
    "### Nick Dorkins 1/20/2021"
   ],
   "cell_type": "markdown",
   "metadata": {}
  },
  {
   "cell_type": "code",
   "execution_count": 71,
   "metadata": {},
   "outputs": [],
   "source": [
    "# import os\n",
    "# import glob\n",
    "import pandas as pd\n",
    "from datetime import date\n",
    "# os.chdir('./bikes')"
   ]
  },
  {
   "cell_type": "code",
   "execution_count": 72,
   "metadata": {},
   "outputs": [],
   "source": [
    "# extension = 'csv'\n",
    "# all_filenames = [i for i in glob.glob('*.{}'.format(extension))]\n",
    "\n",
    "# #combine all files in the list\n",
    "# combined_csv = pd.concat([pd.read_csv(f) for f in all_filenames ])\n",
    "# #export to csv\n",
    "# combined_csv.to_csv( \"combined_csv.csv\", index=False, encoding='utf-8-sig')"
   ]
  },
  {
   "cell_type": "code",
   "execution_count": 73,
   "metadata": {},
   "outputs": [],
   "source": [
    "df = pd.read_csv('./bikes/combined_csv.csv')"
   ]
  },
  {
   "cell_type": "code",
   "execution_count": 74,
   "metadata": {},
   "outputs": [
    {
     "output_type": "execute_result",
     "data": {
      "text/plain": [
       "  station_id                    name        lat        long install_date  \\\n",
       "0      BT-01      3rd Ave & Broad St  47.618418 -122.350964   10/13/2014   \n",
       "1      BT-03       2nd Ave & Vine St  47.615829 -122.348564   10/13/2014   \n",
       "2      BT-04  6th Ave & Blanchard St  47.616094 -122.341102   10/13/2014   \n",
       "3      BT-05  2nd Ave & Blanchard St  47.613110 -122.344208   10/13/2014   \n",
       "4     CBD-03      7th Ave & Union St  47.610731 -122.332447   10/13/2014   \n",
       "\n",
       "   install_dockcount modification_date  current_dockcount decommission_date  \\\n",
       "0               18.0               NaN               18.0               NaN   \n",
       "1               16.0               NaN               16.0               NaN   \n",
       "2               16.0               NaN               16.0               NaN   \n",
       "3               14.0               NaN               14.0               NaN   \n",
       "4               20.0               NaN               20.0               NaN   \n",
       "\n",
       "   trip_id  ... Mean_Sea_Level_Pressure_In Min_Sea_Level_Pressure_In  \\\n",
       "0      NaN  ...                        NaN                       NaN   \n",
       "1      NaN  ...                        NaN                       NaN   \n",
       "2      NaN  ...                        NaN                       NaN   \n",
       "3      NaN  ...                        NaN                       NaN   \n",
       "4      NaN  ...                        NaN                       NaN   \n",
       "\n",
       "  Max_Visibility_Miles  Mean_Visibility_Miles Min_Visibility_Miles  \\\n",
       "0                  NaN                    NaN                  NaN   \n",
       "1                  NaN                    NaN                  NaN   \n",
       "2                  NaN                    NaN                  NaN   \n",
       "3                  NaN                    NaN                  NaN   \n",
       "4                  NaN                    NaN                  NaN   \n",
       "\n",
       "  Max_Wind_Speed_MPH Mean_Wind_Speed_MPH Max_Gust_Speed_MPH Precipitation_In  \\\n",
       "0                NaN                 NaN                NaN              NaN   \n",
       "1                NaN                 NaN                NaN              NaN   \n",
       "2                NaN                 NaN                NaN              NaN   \n",
       "3                NaN                 NaN                NaN              NaN   \n",
       "4                NaN                 NaN                NaN              NaN   \n",
       "\n",
       "  Events  \n",
       "0    NaN  \n",
       "1    NaN  \n",
       "2    NaN  \n",
       "3    NaN  \n",
       "4    NaN  \n",
       "\n",
       "[5 rows x 42 columns]"
      ],
      "text/html": "<div>\n<style scoped>\n    .dataframe tbody tr th:only-of-type {\n        vertical-align: middle;\n    }\n\n    .dataframe tbody tr th {\n        vertical-align: top;\n    }\n\n    .dataframe thead th {\n        text-align: right;\n    }\n</style>\n<table border=\"1\" class=\"dataframe\">\n  <thead>\n    <tr style=\"text-align: right;\">\n      <th></th>\n      <th>station_id</th>\n      <th>name</th>\n      <th>lat</th>\n      <th>long</th>\n      <th>install_date</th>\n      <th>install_dockcount</th>\n      <th>modification_date</th>\n      <th>current_dockcount</th>\n      <th>decommission_date</th>\n      <th>trip_id</th>\n      <th>...</th>\n      <th>Mean_Sea_Level_Pressure_In</th>\n      <th>Min_Sea_Level_Pressure_In</th>\n      <th>Max_Visibility_Miles</th>\n      <th>Mean_Visibility_Miles</th>\n      <th>Min_Visibility_Miles</th>\n      <th>Max_Wind_Speed_MPH</th>\n      <th>Mean_Wind_Speed_MPH</th>\n      <th>Max_Gust_Speed_MPH</th>\n      <th>Precipitation_In</th>\n      <th>Events</th>\n    </tr>\n  </thead>\n  <tbody>\n    <tr>\n      <th>0</th>\n      <td>BT-01</td>\n      <td>3rd Ave &amp; Broad St</td>\n      <td>47.618418</td>\n      <td>-122.350964</td>\n      <td>10/13/2014</td>\n      <td>18.0</td>\n      <td>NaN</td>\n      <td>18.0</td>\n      <td>NaN</td>\n      <td>NaN</td>\n      <td>...</td>\n      <td>NaN</td>\n      <td>NaN</td>\n      <td>NaN</td>\n      <td>NaN</td>\n      <td>NaN</td>\n      <td>NaN</td>\n      <td>NaN</td>\n      <td>NaN</td>\n      <td>NaN</td>\n      <td>NaN</td>\n    </tr>\n    <tr>\n      <th>1</th>\n      <td>BT-03</td>\n      <td>2nd Ave &amp; Vine St</td>\n      <td>47.615829</td>\n      <td>-122.348564</td>\n      <td>10/13/2014</td>\n      <td>16.0</td>\n      <td>NaN</td>\n      <td>16.0</td>\n      <td>NaN</td>\n      <td>NaN</td>\n      <td>...</td>\n      <td>NaN</td>\n      <td>NaN</td>\n      <td>NaN</td>\n      <td>NaN</td>\n      <td>NaN</td>\n      <td>NaN</td>\n      <td>NaN</td>\n      <td>NaN</td>\n      <td>NaN</td>\n      <td>NaN</td>\n    </tr>\n    <tr>\n      <th>2</th>\n      <td>BT-04</td>\n      <td>6th Ave &amp; Blanchard St</td>\n      <td>47.616094</td>\n      <td>-122.341102</td>\n      <td>10/13/2014</td>\n      <td>16.0</td>\n      <td>NaN</td>\n      <td>16.0</td>\n      <td>NaN</td>\n      <td>NaN</td>\n      <td>...</td>\n      <td>NaN</td>\n      <td>NaN</td>\n      <td>NaN</td>\n      <td>NaN</td>\n      <td>NaN</td>\n      <td>NaN</td>\n      <td>NaN</td>\n      <td>NaN</td>\n      <td>NaN</td>\n      <td>NaN</td>\n    </tr>\n    <tr>\n      <th>3</th>\n      <td>BT-05</td>\n      <td>2nd Ave &amp; Blanchard St</td>\n      <td>47.613110</td>\n      <td>-122.344208</td>\n      <td>10/13/2014</td>\n      <td>14.0</td>\n      <td>NaN</td>\n      <td>14.0</td>\n      <td>NaN</td>\n      <td>NaN</td>\n      <td>...</td>\n      <td>NaN</td>\n      <td>NaN</td>\n      <td>NaN</td>\n      <td>NaN</td>\n      <td>NaN</td>\n      <td>NaN</td>\n      <td>NaN</td>\n      <td>NaN</td>\n      <td>NaN</td>\n      <td>NaN</td>\n    </tr>\n    <tr>\n      <th>4</th>\n      <td>CBD-03</td>\n      <td>7th Ave &amp; Union St</td>\n      <td>47.610731</td>\n      <td>-122.332447</td>\n      <td>10/13/2014</td>\n      <td>20.0</td>\n      <td>NaN</td>\n      <td>20.0</td>\n      <td>NaN</td>\n      <td>NaN</td>\n      <td>...</td>\n      <td>NaN</td>\n      <td>NaN</td>\n      <td>NaN</td>\n      <td>NaN</td>\n      <td>NaN</td>\n      <td>NaN</td>\n      <td>NaN</td>\n      <td>NaN</td>\n      <td>NaN</td>\n      <td>NaN</td>\n    </tr>\n  </tbody>\n</table>\n<p>5 rows × 42 columns</p>\n</div>"
     },
     "metadata": {},
     "execution_count": 74
    }
   ],
   "source": [
    "df.head()"
   ]
  },
  {
   "cell_type": "code",
   "execution_count": 75,
   "metadata": {},
   "outputs": [
    {
     "output_type": "execute_result",
     "data": {
      "text/plain": [
       "1178.3542840325176"
      ]
     },
     "metadata": {},
     "execution_count": 75
    }
   ],
   "source": [
    "# What is the average trip duration for a borrowed bicycle?\n",
    "df['tripduration'].mean(skipna=True)\n"
   ]
  },
  {
   "cell_type": "code",
   "execution_count": 76,
   "metadata": {},
   "outputs": [
    {
     "output_type": "execute_result",
     "data": {
      "text/plain": [
       "41.24093790793873"
      ]
     },
     "metadata": {},
     "execution_count": 76
    }
   ],
   "source": [
    "# What’s the most common age of a bicycle-sharer?\n",
    "year = df['birthyear']\n",
    "\n",
    "average_age = 2021-year\n",
    "average_age.mean(skipna=True)\n"
   ]
  },
  {
   "cell_type": "code",
   "execution_count": 77,
   "metadata": {},
   "outputs": [
    {
     "output_type": "execute_result",
     "data": {
      "text/plain": [
       "       Month  Precipitation_In\n",
       "Month                         \n",
       "12.0    12.0          0.236290\n",
       "10.0    10.0          0.189000\n",
       "11.0    11.0          0.187833\n",
       "2.0      2.0          0.168421\n",
       "3.0      3.0          0.156935\n",
       "1.0      1.0          0.143548\n",
       "4.0      4.0          0.051333\n",
       "9.0      9.0          0.041000\n",
       "6.0      6.0          0.030500\n",
       "8.0      8.0          0.018226\n",
       "5.0      5.0          0.012419\n",
       "7.0      7.0          0.012097"
      ],
      "text/html": "<div>\n<style scoped>\n    .dataframe tbody tr th:only-of-type {\n        vertical-align: middle;\n    }\n\n    .dataframe tbody tr th {\n        vertical-align: top;\n    }\n\n    .dataframe thead th {\n        text-align: right;\n    }\n</style>\n<table border=\"1\" class=\"dataframe\">\n  <thead>\n    <tr style=\"text-align: right;\">\n      <th></th>\n      <th>Month</th>\n      <th>Precipitation_In</th>\n    </tr>\n    <tr>\n      <th>Month</th>\n      <th></th>\n      <th></th>\n    </tr>\n  </thead>\n  <tbody>\n    <tr>\n      <th>12.0</th>\n      <td>12.0</td>\n      <td>0.236290</td>\n    </tr>\n    <tr>\n      <th>10.0</th>\n      <td>10.0</td>\n      <td>0.189000</td>\n    </tr>\n    <tr>\n      <th>11.0</th>\n      <td>11.0</td>\n      <td>0.187833</td>\n    </tr>\n    <tr>\n      <th>2.0</th>\n      <td>2.0</td>\n      <td>0.168421</td>\n    </tr>\n    <tr>\n      <th>3.0</th>\n      <td>3.0</td>\n      <td>0.156935</td>\n    </tr>\n    <tr>\n      <th>1.0</th>\n      <td>1.0</td>\n      <td>0.143548</td>\n    </tr>\n    <tr>\n      <th>4.0</th>\n      <td>4.0</td>\n      <td>0.051333</td>\n    </tr>\n    <tr>\n      <th>9.0</th>\n      <td>9.0</td>\n      <td>0.041000</td>\n    </tr>\n    <tr>\n      <th>6.0</th>\n      <td>6.0</td>\n      <td>0.030500</td>\n    </tr>\n    <tr>\n      <th>8.0</th>\n      <td>8.0</td>\n      <td>0.018226</td>\n    </tr>\n    <tr>\n      <th>5.0</th>\n      <td>5.0</td>\n      <td>0.012419</td>\n    </tr>\n    <tr>\n      <th>7.0</th>\n      <td>7.0</td>\n      <td>0.012097</td>\n    </tr>\n  </tbody>\n</table>\n</div>"
     },
     "metadata": {},
     "execution_count": 77
    }
   ],
   "source": [
    "# Given all the weather data here, find the average precipitation per month, and the median precipitation.\n",
    "\n",
    "df['Date'] = pd.to_datetime(df['Date'])\n",
    "df['Month'] = df['Date'].dt.month\n",
    "average_precipitation = pd.DataFrame(df[['Month','Precipitation_In']]).groupby(df.Month).mean()\n",
    "\n",
    "average_precipitation.sort_values('Precipitation_In', ascending=False)\n",
    " \n"
   ]
  },
  {
   "cell_type": "code",
   "execution_count": 78,
   "metadata": {},
   "outputs": [
    {
     "output_type": "execute_result",
     "data": {
      "text/plain": [
       "0.09744086021505376"
      ]
     },
     "metadata": {},
     "execution_count": 78
    }
   ],
   "source": [
    "# and the median precipitation\n",
    "\n",
    "median_percipitation = average_precipitation['Precipitation_In'].median()\n",
    "median_percipitation"
   ]
  },
  {
   "cell_type": "code",
   "execution_count": 79,
   "metadata": {},
   "outputs": [
    {
     "output_type": "execute_result",
     "data": {
      "text/plain": [
       "16.517241379310345"
      ]
     },
     "metadata": {},
     "execution_count": 79
    }
   ],
   "source": [
    "# What’s the average number of bikes at a given bike station?\n",
    "average_bikes = df['current_dockcount'].mean(skipna=True)\n",
    "average_bikes\n"
   ]
  },
  {
   "cell_type": "code",
   "execution_count": 80,
   "metadata": {},
   "outputs": [],
   "source": [
    "# When a bike station is modified, is it more likely that it’ll lose bikes or gain bikes? How do you know?\n",
    "\n",
    "\n"
   ]
  },
  {
   "cell_type": "code",
   "execution_count": 81,
   "metadata": {},
   "outputs": [],
   "source": [
    "# Come up with 3 more questions that can be answered with this data set.\n"
   ]
  },
  {
   "cell_type": "code",
   "execution_count": 82,
   "metadata": {},
   "outputs": [
    {
     "output_type": "execute_result",
     "data": {
      "text/plain": [
       "'Male'"
      ]
     },
     "metadata": {},
     "execution_count": 82
    }
   ],
   "source": [
    "# What is the most common gender for bike renters?\n",
    "gender_stats = df['gender'].mode()[0]\n",
    "gender_stats"
   ]
  },
  {
   "cell_type": "code",
   "execution_count": 83,
   "metadata": {},
   "outputs": [
    {
     "output_type": "execute_result",
     "data": {
      "text/plain": [
       "       Month  Mean_Temperature_F\n",
       "Month                           \n",
       "7.0      7.0           70.177419\n",
       "8.0      8.0           69.596774\n",
       "6.0      6.0           66.616667\n",
       "9.0      9.0           62.566667\n",
       "5.0      5.0           60.822581\n",
       "10.0    10.0           58.840000\n",
       "4.0      4.0           55.116667\n",
       "3.0      3.0           51.048387\n",
       "2.0      2.0           49.267857\n",
       "11.0    11.0           46.800000\n",
       "12.0    12.0           45.709677\n",
       "1.0      1.0           45.225806"
      ],
      "text/html": "<div>\n<style scoped>\n    .dataframe tbody tr th:only-of-type {\n        vertical-align: middle;\n    }\n\n    .dataframe tbody tr th {\n        vertical-align: top;\n    }\n\n    .dataframe thead th {\n        text-align: right;\n    }\n</style>\n<table border=\"1\" class=\"dataframe\">\n  <thead>\n    <tr style=\"text-align: right;\">\n      <th></th>\n      <th>Month</th>\n      <th>Mean_Temperature_F</th>\n    </tr>\n    <tr>\n      <th>Month</th>\n      <th></th>\n      <th></th>\n    </tr>\n  </thead>\n  <tbody>\n    <tr>\n      <th>7.0</th>\n      <td>7.0</td>\n      <td>70.177419</td>\n    </tr>\n    <tr>\n      <th>8.0</th>\n      <td>8.0</td>\n      <td>69.596774</td>\n    </tr>\n    <tr>\n      <th>6.0</th>\n      <td>6.0</td>\n      <td>66.616667</td>\n    </tr>\n    <tr>\n      <th>9.0</th>\n      <td>9.0</td>\n      <td>62.566667</td>\n    </tr>\n    <tr>\n      <th>5.0</th>\n      <td>5.0</td>\n      <td>60.822581</td>\n    </tr>\n    <tr>\n      <th>10.0</th>\n      <td>10.0</td>\n      <td>58.840000</td>\n    </tr>\n    <tr>\n      <th>4.0</th>\n      <td>4.0</td>\n      <td>55.116667</td>\n    </tr>\n    <tr>\n      <th>3.0</th>\n      <td>3.0</td>\n      <td>51.048387</td>\n    </tr>\n    <tr>\n      <th>2.0</th>\n      <td>2.0</td>\n      <td>49.267857</td>\n    </tr>\n    <tr>\n      <th>11.0</th>\n      <td>11.0</td>\n      <td>46.800000</td>\n    </tr>\n    <tr>\n      <th>12.0</th>\n      <td>12.0</td>\n      <td>45.709677</td>\n    </tr>\n    <tr>\n      <th>1.0</th>\n      <td>1.0</td>\n      <td>45.225806</td>\n    </tr>\n  </tbody>\n</table>\n</div>"
     },
     "metadata": {},
     "execution_count": 83
    }
   ],
   "source": [
    "# What is the average temperature per month sorted in descending order?\n",
    " \n",
    "df['Date'] = pd.to_datetime(df['Date'])\n",
    "df['Month'] = df['Date'].dt.month\n",
    "average_trips_per_month = pd.DataFrame(df[['Month','Mean_Temperature_F']]).groupby(df.Month).mean()\n",
    "\n",
    "average_trips_per_month.sort_values('Mean_Temperature_F', ascending=False)"
   ]
  },
  {
   "cell_type": "code",
   "execution_count": 84,
   "metadata": {},
   "outputs": [
    {
     "output_type": "execute_result",
     "data": {
      "text/plain": [
       "'SEA00281'"
      ]
     },
     "metadata": {},
     "execution_count": 84
    }
   ],
   "source": [
    "# What is the most frequently rented bike?\n",
    "\n",
    "most_rented_bike = df['bikeid'].mode()[0]\n",
    "most_rented_bike\n"
   ]
  },
  {
   "cell_type": "code",
   "execution_count": null,
   "metadata": {},
   "outputs": [],
   "source": []
  }
 ]
}
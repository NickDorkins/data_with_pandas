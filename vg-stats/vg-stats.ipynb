{
 "metadata": {
  "language_info": {
   "codemirror_mode": {
    "name": "ipython",
    "version": 3
   },
   "file_extension": ".py",
   "mimetype": "text/x-python",
   "name": "python",
   "nbconvert_exporter": "python",
   "pygments_lexer": "ipython3",
   "version": "3.9.0-final"
  },
  "orig_nbformat": 2,
  "kernelspec": {
   "name": "python3",
   "display_name": "Python 3",
   "language": "python"
  }
 },
 "nbformat": 4,
 "nbformat_minor": 2,
 "cells": [
  {
   "source": [
    "## Data Analysis with Pandas\n",
    "## Bike Rental Stats \n",
    "### Nick Dorkins 1/20/2021"
   ],
   "cell_type": "markdown",
   "metadata": {}
  },
  {
   "cell_type": "code",
   "execution_count": 156,
   "metadata": {},
   "outputs": [],
   "source": [
    "import pandas as pd\n",
    "import numpy as np"
   ]
  },
  {
   "cell_type": "code",
   "execution_count": 157,
   "metadata": {},
   "outputs": [],
   "source": [
    "df = pd.read_csv('./vgsales.csv')"
   ]
  },
  {
   "cell_type": "code",
   "execution_count": 158,
   "metadata": {},
   "outputs": [
    {
     "output_type": "stream",
     "name": "stdout",
     "text": [
      "<class 'pandas.core.frame.DataFrame'>\nRangeIndex: 16598 entries, 0 to 16597\nData columns (total 11 columns):\n #   Column        Non-Null Count  Dtype  \n---  ------        --------------  -----  \n 0   Rank          16598 non-null  int64  \n 1   Name          16598 non-null  object \n 2   Platform      16598 non-null  object \n 3   Year          16327 non-null  float64\n 4   Genre         16598 non-null  object \n 5   Publisher     16540 non-null  object \n 6   NA_Sales      16598 non-null  float64\n 7   EU_Sales      16598 non-null  float64\n 8   JP_Sales      16598 non-null  float64\n 9   Other_Sales   16598 non-null  float64\n 10  Global_Sales  16598 non-null  float64\ndtypes: float64(6), int64(1), object(4)\nmemory usage: 1.4+ MB\n"
     ]
    }
   ],
   "source": [
    "df.info()"
   ]
  },
  {
   "cell_type": "code",
   "execution_count": 159,
   "metadata": {},
   "outputs": [
    {
     "output_type": "execute_result",
     "data": {
      "text/plain": [
       "'Electronic Arts'"
      ]
     },
     "metadata": {},
     "execution_count": 159
    }
   ],
   "source": [
    "# Which company is the most common video game publisher?\n",
    "most_published = df['Publisher'].mode()[0]\n",
    "most_published\n"
   ]
  },
  {
   "cell_type": "code",
   "execution_count": 160,
   "metadata": {},
   "outputs": [
    {
     "output_type": "execute_result",
     "data": {
      "text/plain": [
       "'DS'"
      ]
     },
     "metadata": {},
     "execution_count": 160
    }
   ],
   "source": [
    "# What’s the most common platform?\n",
    "most_common_platform = df['Platform'].mode()[0]\n",
    "most_common_platform\n"
   ]
  },
  {
   "cell_type": "code",
   "execution_count": 161,
   "metadata": {},
   "outputs": [
    {
     "output_type": "execute_result",
     "data": {
      "text/plain": [
       "'Action'"
      ]
     },
     "metadata": {},
     "execution_count": 161
    }
   ],
   "source": [
    "# What about the most common genre?\n",
    "most_common_genre = df['Genre'].mode()[0]\n",
    "most_common_genre\n"
   ]
  },
  {
   "cell_type": "code",
   "execution_count": 162,
   "metadata": {},
   "outputs": [
    {
     "output_type": "execute_result",
     "data": {
      "text/plain": [
       "                                                      Name\n",
       "Global_Sales                                              \n",
       "82.74                                           Wii Sports\n",
       "40.24                                    Super Mario Bros.\n",
       "35.82                                       Mario Kart Wii\n",
       "33.00                                    Wii Sports Resort\n",
       "31.37                             Pokemon Red/Pokemon Blue\n",
       "30.26                                               Tetris\n",
       "30.01                                New Super Mario Bros.\n",
       "29.02                                             Wii Play\n",
       "28.62                            New Super Mario Bros. Wii\n",
       "28.31                                            Duck Hunt\n",
       "24.76                                           Nintendogs\n",
       "23.42                                        Mario Kart DS\n",
       "23.10                          Pokemon Gold/Pokemon Silver\n",
       "22.72                                              Wii Fit\n",
       "22.00                                         Wii Fit Plus\n",
       "21.82                                   Kinect Adventures!\n",
       "21.40                                   Grand Theft Auto V\n",
       "20.81                        Grand Theft Auto: San Andreas\n",
       "20.61                                    Super Mario World\n",
       "20.22         Brain Age: Train Your Brain in Minutes a Day"
      ],
      "text/html": "<div>\n<style scoped>\n    .dataframe tbody tr th:only-of-type {\n        vertical-align: middle;\n    }\n\n    .dataframe tbody tr th {\n        vertical-align: top;\n    }\n\n    .dataframe thead th {\n        text-align: right;\n    }\n</style>\n<table border=\"1\" class=\"dataframe\">\n  <thead>\n    <tr style=\"text-align: right;\">\n      <th></th>\n      <th>Name</th>\n    </tr>\n    <tr>\n      <th>Global_Sales</th>\n      <th></th>\n    </tr>\n  </thead>\n  <tbody>\n    <tr>\n      <th>82.74</th>\n      <td>Wii Sports</td>\n    </tr>\n    <tr>\n      <th>40.24</th>\n      <td>Super Mario Bros.</td>\n    </tr>\n    <tr>\n      <th>35.82</th>\n      <td>Mario Kart Wii</td>\n    </tr>\n    <tr>\n      <th>33.00</th>\n      <td>Wii Sports Resort</td>\n    </tr>\n    <tr>\n      <th>31.37</th>\n      <td>Pokemon Red/Pokemon Blue</td>\n    </tr>\n    <tr>\n      <th>30.26</th>\n      <td>Tetris</td>\n    </tr>\n    <tr>\n      <th>30.01</th>\n      <td>New Super Mario Bros.</td>\n    </tr>\n    <tr>\n      <th>29.02</th>\n      <td>Wii Play</td>\n    </tr>\n    <tr>\n      <th>28.62</th>\n      <td>New Super Mario Bros. Wii</td>\n    </tr>\n    <tr>\n      <th>28.31</th>\n      <td>Duck Hunt</td>\n    </tr>\n    <tr>\n      <th>24.76</th>\n      <td>Nintendogs</td>\n    </tr>\n    <tr>\n      <th>23.42</th>\n      <td>Mario Kart DS</td>\n    </tr>\n    <tr>\n      <th>23.10</th>\n      <td>Pokemon Gold/Pokemon Silver</td>\n    </tr>\n    <tr>\n      <th>22.72</th>\n      <td>Wii Fit</td>\n    </tr>\n    <tr>\n      <th>22.00</th>\n      <td>Wii Fit Plus</td>\n    </tr>\n    <tr>\n      <th>21.82</th>\n      <td>Kinect Adventures!</td>\n    </tr>\n    <tr>\n      <th>21.40</th>\n      <td>Grand Theft Auto V</td>\n    </tr>\n    <tr>\n      <th>20.81</th>\n      <td>Grand Theft Auto: San Andreas</td>\n    </tr>\n    <tr>\n      <th>20.61</th>\n      <td>Super Mario World</td>\n    </tr>\n    <tr>\n      <th>20.22</th>\n      <td>Brain Age: Train Your Brain in Minutes a Day</td>\n    </tr>\n  </tbody>\n</table>\n</div>"
     },
     "metadata": {},
     "execution_count": 162
    }
   ],
   "source": [
    "# What are the top 20 highest grossing games?\n",
    "df[['Global_Sales','Name']].set_index('Global_Sales').sort_values('Global_Sales', ascending=False).head(20)\n"
   ]
  },
  {
   "cell_type": "code",
   "execution_count": 163,
   "metadata": {},
   "outputs": [
    {
     "output_type": "execute_result",
     "data": {
      "text/plain": [
       "0.08"
      ]
     },
     "metadata": {},
     "execution_count": 163
    }
   ],
   "source": [
    "# For North American video game sales, what’s the median?\n",
    "median_sales = df['NA_Sales'].median(skipna = True)\n",
    "median_sales\n"
   ]
  },
  {
   "cell_type": "code",
   "execution_count": 164,
   "metadata": {},
   "outputs": [
    {
     "output_type": "execute_result",
     "data": {
      "text/plain": [
       "8299"
      ]
     },
     "metadata": {},
     "execution_count": 164
    }
   ],
   "source": [
    "# Provide a secondary output showing ten games surrounding the median sales output\n",
    "# assume that games with same median value are sorted in descending order\n",
    "\n",
    "\n",
    "# median_ten = df['NA_Sales'].median(10)\n",
    "# median_ten\n",
    "\n",
    "# df[['NA_Sales','Name']].set_index('NA_Sales').sort_values('NA_Sales', ascending=False).head(10)\n",
    "\n",
    "# below_median = df[df['NA_Sales'] < df['NA_Sales'].median()][['Name','NA_Sales']].sort_values('NA_Sales').tail(5)\n",
    "\n",
    "north_american_sales = df.sort_values('NA_Sales', ascending = False)\n",
    "median_ten = (north_american_sales.shape[0] +1) // 2\n",
    "median_ten\n"
   ]
  },
  {
   "cell_type": "code",
   "execution_count": 165,
   "metadata": {},
   "outputs": [
    {
     "output_type": "execute_result",
     "data": {
      "text/plain": [
       "        Rank                                              Name Platform  \\\n",
       "10802  10804                Bladestorm: The Hundred Years' War     X360   \n",
       "9569    9571                             Batman: Arkham Knight       PC   \n",
       "8550    8552     Wakeboarding Unleashed Featuring Shaun Murray      PS2   \n",
       "10799  10801                                         Mind Quiz      PSP   \n",
       "9197    9199                      The Walking Dead: Season Two     XOne   \n",
       "9192    9194                                     Dino Crisis 3       XB   \n",
       "10181  10183                              Smash Court Tennis 3     X360   \n",
       "8802    8804  Disney's The Lion King: Simba's Mighty Adventure       PS   \n",
       "8724    8726                                            Driven      PS2   \n",
       "10793  10795                                      Glory Days 2       DS   \n",
       "10298  10300                    National Geographic Challenge!      Wii   \n",
       "\n",
       "         Year      Genre                               Publisher  NA_Sales  \\\n",
       "10802  2007.0     Action                              Tecmo Koei      0.08   \n",
       "9569   2015.0     Action  Warner Bros. Interactive Entertainment      0.08   \n",
       "8550   2003.0     Sports                              Activision      0.08   \n",
       "10799  2006.0     Action                                 Ubisoft      0.08   \n",
       "9197   2014.0  Adventure                          Telltale Games      0.08   \n",
       "9192   2003.0     Action                                  Capcom      0.08   \n",
       "10181  2007.0     Sports                                   Atari      0.08   \n",
       "8802   2000.0     Action                              Activision      0.08   \n",
       "8724   2001.0     Racing                      BAM! Entertainment      0.08   \n",
       "10793  2007.0   Strategy                              Ghostlight      0.08   \n",
       "10298  2011.0       Misc                        Black Bean Games      0.08   \n",
       "\n",
       "       EU_Sales  JP_Sales  Other_Sales  Global_Sales  \n",
       "10802      0.01      0.00         0.01          0.10  \n",
       "9569       0.03      0.00         0.01          0.13  \n",
       "8550       0.06      0.00         0.02          0.16  \n",
       "10799      0.01      0.00         0.01          0.10  \n",
       "9197       0.05      0.00         0.01          0.14  \n",
       "9192       0.03      0.03         0.00          0.14  \n",
       "10181      0.02      0.00         0.01          0.11  \n",
       "8802       0.06      0.00         0.01          0.15  \n",
       "8724       0.06      0.00         0.02          0.15  \n",
       "10793      0.00      0.00         0.01          0.10  \n",
       "10298      0.02      0.00         0.01          0.11  "
      ],
      "text/html": "<div>\n<style scoped>\n    .dataframe tbody tr th:only-of-type {\n        vertical-align: middle;\n    }\n\n    .dataframe tbody tr th {\n        vertical-align: top;\n    }\n\n    .dataframe thead th {\n        text-align: right;\n    }\n</style>\n<table border=\"1\" class=\"dataframe\">\n  <thead>\n    <tr style=\"text-align: right;\">\n      <th></th>\n      <th>Rank</th>\n      <th>Name</th>\n      <th>Platform</th>\n      <th>Year</th>\n      <th>Genre</th>\n      <th>Publisher</th>\n      <th>NA_Sales</th>\n      <th>EU_Sales</th>\n      <th>JP_Sales</th>\n      <th>Other_Sales</th>\n      <th>Global_Sales</th>\n    </tr>\n  </thead>\n  <tbody>\n    <tr>\n      <th>10802</th>\n      <td>10804</td>\n      <td>Bladestorm: The Hundred Years' War</td>\n      <td>X360</td>\n      <td>2007.0</td>\n      <td>Action</td>\n      <td>Tecmo Koei</td>\n      <td>0.08</td>\n      <td>0.01</td>\n      <td>0.00</td>\n      <td>0.01</td>\n      <td>0.10</td>\n    </tr>\n    <tr>\n      <th>9569</th>\n      <td>9571</td>\n      <td>Batman: Arkham Knight</td>\n      <td>PC</td>\n      <td>2015.0</td>\n      <td>Action</td>\n      <td>Warner Bros. Interactive Entertainment</td>\n      <td>0.08</td>\n      <td>0.03</td>\n      <td>0.00</td>\n      <td>0.01</td>\n      <td>0.13</td>\n    </tr>\n    <tr>\n      <th>8550</th>\n      <td>8552</td>\n      <td>Wakeboarding Unleashed Featuring Shaun Murray</td>\n      <td>PS2</td>\n      <td>2003.0</td>\n      <td>Sports</td>\n      <td>Activision</td>\n      <td>0.08</td>\n      <td>0.06</td>\n      <td>0.00</td>\n      <td>0.02</td>\n      <td>0.16</td>\n    </tr>\n    <tr>\n      <th>10799</th>\n      <td>10801</td>\n      <td>Mind Quiz</td>\n      <td>PSP</td>\n      <td>2006.0</td>\n      <td>Action</td>\n      <td>Ubisoft</td>\n      <td>0.08</td>\n      <td>0.01</td>\n      <td>0.00</td>\n      <td>0.01</td>\n      <td>0.10</td>\n    </tr>\n    <tr>\n      <th>9197</th>\n      <td>9199</td>\n      <td>The Walking Dead: Season Two</td>\n      <td>XOne</td>\n      <td>2014.0</td>\n      <td>Adventure</td>\n      <td>Telltale Games</td>\n      <td>0.08</td>\n      <td>0.05</td>\n      <td>0.00</td>\n      <td>0.01</td>\n      <td>0.14</td>\n    </tr>\n    <tr>\n      <th>9192</th>\n      <td>9194</td>\n      <td>Dino Crisis 3</td>\n      <td>XB</td>\n      <td>2003.0</td>\n      <td>Action</td>\n      <td>Capcom</td>\n      <td>0.08</td>\n      <td>0.03</td>\n      <td>0.03</td>\n      <td>0.00</td>\n      <td>0.14</td>\n    </tr>\n    <tr>\n      <th>10181</th>\n      <td>10183</td>\n      <td>Smash Court Tennis 3</td>\n      <td>X360</td>\n      <td>2007.0</td>\n      <td>Sports</td>\n      <td>Atari</td>\n      <td>0.08</td>\n      <td>0.02</td>\n      <td>0.00</td>\n      <td>0.01</td>\n      <td>0.11</td>\n    </tr>\n    <tr>\n      <th>8802</th>\n      <td>8804</td>\n      <td>Disney's The Lion King: Simba's Mighty Adventure</td>\n      <td>PS</td>\n      <td>2000.0</td>\n      <td>Action</td>\n      <td>Activision</td>\n      <td>0.08</td>\n      <td>0.06</td>\n      <td>0.00</td>\n      <td>0.01</td>\n      <td>0.15</td>\n    </tr>\n    <tr>\n      <th>8724</th>\n      <td>8726</td>\n      <td>Driven</td>\n      <td>PS2</td>\n      <td>2001.0</td>\n      <td>Racing</td>\n      <td>BAM! Entertainment</td>\n      <td>0.08</td>\n      <td>0.06</td>\n      <td>0.00</td>\n      <td>0.02</td>\n      <td>0.15</td>\n    </tr>\n    <tr>\n      <th>10793</th>\n      <td>10795</td>\n      <td>Glory Days 2</td>\n      <td>DS</td>\n      <td>2007.0</td>\n      <td>Strategy</td>\n      <td>Ghostlight</td>\n      <td>0.08</td>\n      <td>0.00</td>\n      <td>0.00</td>\n      <td>0.01</td>\n      <td>0.10</td>\n    </tr>\n    <tr>\n      <th>10298</th>\n      <td>10300</td>\n      <td>National Geographic Challenge!</td>\n      <td>Wii</td>\n      <td>2011.0</td>\n      <td>Misc</td>\n      <td>Black Bean Games</td>\n      <td>0.08</td>\n      <td>0.02</td>\n      <td>0.00</td>\n      <td>0.01</td>\n      <td>0.11</td>\n    </tr>\n  </tbody>\n</table>\n</div>"
     },
     "metadata": {},
     "execution_count": 165
    }
   ],
   "source": [
    "north_american_sales.iloc[median_ten -5: median_ten +6]\n"
   ]
  },
  {
   "cell_type": "code",
   "execution_count": 181,
   "metadata": {},
   "outputs": [
    {
     "output_type": "execute_result",
     "data": {
      "text/plain": [
       "52.862432541684456"
      ]
     },
     "metadata": {},
     "execution_count": 181
    }
   ],
   "source": [
    "# For the top-selling game of all time, how many standard deviations above/below the mean are its sales for North America?\n",
    "\n",
    "top_seller = df.sort_values('Global_Sales', ascending=False).head(1)\n",
    "global_sales_mean = df['Global_Sales'].mean()\n",
    "global_stds = df['Global_Sales'].std()\n",
    "top_game_sales = top_seller.loc[0]['Global_Sales']\n",
    "total_stds = ((top_game_sales - global_sales_mean) / global_stds)\n",
    "\n",
    "\n",
    "total_stds\n"
   ]
  },
  {
   "cell_type": "code",
   "execution_count": 183,
   "metadata": {},
   "outputs": [
    {
     "output_type": "execute_result",
     "data": {
      "text/plain": [
       "        Rank                                               Name Platform  \\\n",
       "0          1                                         Wii Sports      Wii   \n",
       "2          3                                     Mario Kart Wii      Wii   \n",
       "3          4                                  Wii Sports Resort      Wii   \n",
       "7          8                                           Wii Play      Wii   \n",
       "8          9                          New Super Mario Bros. Wii      Wii   \n",
       "...      ...                                                ...      ...   \n",
       "16517  16520                       Teenage Mutant Ninja Turtles      Wii   \n",
       "16552  16555           Mahou Sensei Negima!? Neo-Pactio Fight!!      Wii   \n",
       "16573  16576                                Mini Desktop Racing      Wii   \n",
       "16574  16577  Yattaman Wii: BikkuriDokkiri Machine de Mou Ra...      Wii   \n",
       "16581  16584                                          Fit & Fun      Wii   \n",
       "\n",
       "         Year     Genre                     Publisher  NA_Sales  EU_Sales  \\\n",
       "0      2006.0    Sports                      Nintendo     41.49     29.02   \n",
       "2      2008.0    Racing                      Nintendo     15.85     12.88   \n",
       "3      2009.0    Sports                      Nintendo     15.75     11.01   \n",
       "7      2006.0      Misc                      Nintendo     14.03      9.20   \n",
       "8      2009.0  Platform                      Nintendo     14.59      7.06   \n",
       "...       ...       ...                           ...       ...       ...   \n",
       "16517  2007.0    Action  Konami Digital Entertainment      0.00      0.01   \n",
       "16552  2007.0  Fighting         Marvelous Interactive      0.00      0.00   \n",
       "16573  2007.0    Racing                Popcorn Arcade      0.01      0.00   \n",
       "16574  2008.0    Racing                   Takara Tomy      0.00      0.00   \n",
       "16581  2011.0    Sports                       Unknown      0.00      0.01   \n",
       "\n",
       "       JP_Sales  Other_Sales  Global_Sales  \n",
       "0          3.77         8.46         82.74  \n",
       "2          3.79         3.31         35.82  \n",
       "3          3.28         2.96         33.00  \n",
       "7          2.93         2.85         29.02  \n",
       "8          4.70         2.26         28.62  \n",
       "...         ...          ...           ...  \n",
       "16517      0.00         0.00          0.01  \n",
       "16552      0.01         0.00          0.01  \n",
       "16573      0.00         0.00          0.01  \n",
       "16574      0.01         0.00          0.01  \n",
       "16581      0.00         0.00          0.01  \n",
       "\n",
       "[1325 rows x 11 columns]"
      ],
      "text/html": "<div>\n<style scoped>\n    .dataframe tbody tr th:only-of-type {\n        vertical-align: middle;\n    }\n\n    .dataframe tbody tr th {\n        vertical-align: top;\n    }\n\n    .dataframe thead th {\n        text-align: right;\n    }\n</style>\n<table border=\"1\" class=\"dataframe\">\n  <thead>\n    <tr style=\"text-align: right;\">\n      <th></th>\n      <th>Rank</th>\n      <th>Name</th>\n      <th>Platform</th>\n      <th>Year</th>\n      <th>Genre</th>\n      <th>Publisher</th>\n      <th>NA_Sales</th>\n      <th>EU_Sales</th>\n      <th>JP_Sales</th>\n      <th>Other_Sales</th>\n      <th>Global_Sales</th>\n    </tr>\n  </thead>\n  <tbody>\n    <tr>\n      <th>0</th>\n      <td>1</td>\n      <td>Wii Sports</td>\n      <td>Wii</td>\n      <td>2006.0</td>\n      <td>Sports</td>\n      <td>Nintendo</td>\n      <td>41.49</td>\n      <td>29.02</td>\n      <td>3.77</td>\n      <td>8.46</td>\n      <td>82.74</td>\n    </tr>\n    <tr>\n      <th>2</th>\n      <td>3</td>\n      <td>Mario Kart Wii</td>\n      <td>Wii</td>\n      <td>2008.0</td>\n      <td>Racing</td>\n      <td>Nintendo</td>\n      <td>15.85</td>\n      <td>12.88</td>\n      <td>3.79</td>\n      <td>3.31</td>\n      <td>35.82</td>\n    </tr>\n    <tr>\n      <th>3</th>\n      <td>4</td>\n      <td>Wii Sports Resort</td>\n      <td>Wii</td>\n      <td>2009.0</td>\n      <td>Sports</td>\n      <td>Nintendo</td>\n      <td>15.75</td>\n      <td>11.01</td>\n      <td>3.28</td>\n      <td>2.96</td>\n      <td>33.00</td>\n    </tr>\n    <tr>\n      <th>7</th>\n      <td>8</td>\n      <td>Wii Play</td>\n      <td>Wii</td>\n      <td>2006.0</td>\n      <td>Misc</td>\n      <td>Nintendo</td>\n      <td>14.03</td>\n      <td>9.20</td>\n      <td>2.93</td>\n      <td>2.85</td>\n      <td>29.02</td>\n    </tr>\n    <tr>\n      <th>8</th>\n      <td>9</td>\n      <td>New Super Mario Bros. Wii</td>\n      <td>Wii</td>\n      <td>2009.0</td>\n      <td>Platform</td>\n      <td>Nintendo</td>\n      <td>14.59</td>\n      <td>7.06</td>\n      <td>4.70</td>\n      <td>2.26</td>\n      <td>28.62</td>\n    </tr>\n    <tr>\n      <th>...</th>\n      <td>...</td>\n      <td>...</td>\n      <td>...</td>\n      <td>...</td>\n      <td>...</td>\n      <td>...</td>\n      <td>...</td>\n      <td>...</td>\n      <td>...</td>\n      <td>...</td>\n      <td>...</td>\n    </tr>\n    <tr>\n      <th>16517</th>\n      <td>16520</td>\n      <td>Teenage Mutant Ninja Turtles</td>\n      <td>Wii</td>\n      <td>2007.0</td>\n      <td>Action</td>\n      <td>Konami Digital Entertainment</td>\n      <td>0.00</td>\n      <td>0.01</td>\n      <td>0.00</td>\n      <td>0.00</td>\n      <td>0.01</td>\n    </tr>\n    <tr>\n      <th>16552</th>\n      <td>16555</td>\n      <td>Mahou Sensei Negima!? Neo-Pactio Fight!!</td>\n      <td>Wii</td>\n      <td>2007.0</td>\n      <td>Fighting</td>\n      <td>Marvelous Interactive</td>\n      <td>0.00</td>\n      <td>0.00</td>\n      <td>0.01</td>\n      <td>0.00</td>\n      <td>0.01</td>\n    </tr>\n    <tr>\n      <th>16573</th>\n      <td>16576</td>\n      <td>Mini Desktop Racing</td>\n      <td>Wii</td>\n      <td>2007.0</td>\n      <td>Racing</td>\n      <td>Popcorn Arcade</td>\n      <td>0.01</td>\n      <td>0.00</td>\n      <td>0.00</td>\n      <td>0.00</td>\n      <td>0.01</td>\n    </tr>\n    <tr>\n      <th>16574</th>\n      <td>16577</td>\n      <td>Yattaman Wii: BikkuriDokkiri Machine de Mou Ra...</td>\n      <td>Wii</td>\n      <td>2008.0</td>\n      <td>Racing</td>\n      <td>Takara Tomy</td>\n      <td>0.00</td>\n      <td>0.00</td>\n      <td>0.01</td>\n      <td>0.00</td>\n      <td>0.01</td>\n    </tr>\n    <tr>\n      <th>16581</th>\n      <td>16584</td>\n      <td>Fit &amp; Fun</td>\n      <td>Wii</td>\n      <td>2011.0</td>\n      <td>Sports</td>\n      <td>Unknown</td>\n      <td>0.00</td>\n      <td>0.01</td>\n      <td>0.00</td>\n      <td>0.00</td>\n      <td>0.01</td>\n    </tr>\n  </tbody>\n</table>\n<p>1325 rows × 11 columns</p>\n</div>"
     },
     "metadata": {},
     "execution_count": 183
    }
   ],
   "source": [
    "# The Nintendo Wii seems to have outdone itself with games. How does its average number of sales compare with all of the other platforms?\n",
    "\n",
    "get_wii_games = df[df['Platform'] == 'Wii']\n",
    "get_wii_games"
   ]
  },
  {
   "cell_type": "code",
   "execution_count": 191,
   "metadata": {},
   "outputs": [
    {
     "output_type": "execute_result",
     "data": {
      "text/plain": [
       "0.1619631180842429"
      ]
     },
     "metadata": {},
     "execution_count": 191
    }
   ],
   "source": [
    "mean_wii_sales = get_wii_games['Global_Sales'].mean()\n",
    "mean_global = df['Global_Sales'].mean()\n",
    "wii_difference = mean_wii_sales - mean_global\n",
    "\n",
    "wii_difference\n"
   ]
  },
  {
   "cell_type": "code",
   "execution_count": null,
   "metadata": {},
   "outputs": [],
   "source": [
    "# Come up with 3 more questions that can be answered with this data set.\n"
   ]
  }
 ]
}
{
 "metadata": {
  "language_info": {
   "codemirror_mode": {
    "name": "ipython",
    "version": 3
   },
   "file_extension": ".py",
   "mimetype": "text/x-python",
   "name": "python",
   "nbconvert_exporter": "python",
   "pygments_lexer": "ipython3",
   "version": "3.9.0-final"
  },
  "orig_nbformat": 2,
  "kernelspec": {
   "name": "python3",
   "display_name": "Python 3",
   "language": "python"
  }
 },
 "nbformat": 4,
 "nbformat_minor": 2,
 "cells": [
  {
   "source": [
    "## Data Analysis with Pandas\n",
    "## Bike Rental Stats \n",
    "### Nick Dorkins 1/20/2021"
   ],
   "cell_type": "markdown",
   "metadata": {}
  },
  {
   "cell_type": "code",
   "execution_count": 49,
   "metadata": {},
   "outputs": [],
   "source": [
    "import pandas as pd"
   ]
  },
  {
   "cell_type": "code",
   "execution_count": 50,
   "metadata": {},
   "outputs": [],
   "source": [
    "df = pd.read_csv('./vgsales.csv')"
   ]
  },
  {
   "cell_type": "code",
   "execution_count": 51,
   "metadata": {},
   "outputs": [
    {
     "output_type": "stream",
     "name": "stdout",
     "text": [
      "<class 'pandas.core.frame.DataFrame'>\nRangeIndex: 16598 entries, 0 to 16597\nData columns (total 11 columns):\n #   Column        Non-Null Count  Dtype  \n---  ------        --------------  -----  \n 0   Rank          16598 non-null  int64  \n 1   Name          16598 non-null  object \n 2   Platform      16598 non-null  object \n 3   Year          16327 non-null  float64\n 4   Genre         16598 non-null  object \n 5   Publisher     16540 non-null  object \n 6   NA_Sales      16598 non-null  float64\n 7   EU_Sales      16598 non-null  float64\n 8   JP_Sales      16598 non-null  float64\n 9   Other_Sales   16598 non-null  float64\n 10  Global_Sales  16598 non-null  float64\ndtypes: float64(6), int64(1), object(4)\nmemory usage: 1.4+ MB\n"
     ]
    }
   ],
   "source": [
    "df.info()"
   ]
  },
  {
   "cell_type": "code",
   "execution_count": 52,
   "metadata": {},
   "outputs": [
    {
     "output_type": "execute_result",
     "data": {
      "text/plain": [
       "0    Electronic Arts\n",
       "dtype: object"
      ]
     },
     "metadata": {},
     "execution_count": 52
    }
   ],
   "source": [
    "# Which company is the most common video game publisher?\n",
    "most_published = df['Publisher'].mode()\n",
    "most_published\n"
   ]
  },
  {
   "cell_type": "code",
   "execution_count": 53,
   "metadata": {},
   "outputs": [
    {
     "output_type": "execute_result",
     "data": {
      "text/plain": [
       "0    DS\n",
       "dtype: object"
      ]
     },
     "metadata": {},
     "execution_count": 53
    }
   ],
   "source": [
    "# What’s the most common platform?\n",
    "most_common_platform = df['Platform'].mode()\n",
    "most_common_platform\n"
   ]
  },
  {
   "cell_type": "code",
   "execution_count": 54,
   "metadata": {},
   "outputs": [
    {
     "output_type": "execute_result",
     "data": {
      "text/plain": [
       "0    Action\n",
       "dtype: object"
      ]
     },
     "metadata": {},
     "execution_count": 54
    }
   ],
   "source": [
    "# What about the most common genre?\n",
    "most_common_genre = df['Genre'].mode()\n",
    "most_common_genre\n"
   ]
  },
  {
   "cell_type": "code",
   "execution_count": 55,
   "metadata": {},
   "outputs": [
    {
     "output_type": "execute_result",
     "data": {
      "text/plain": [
       "                                                      Name\n",
       "Global_Sales                                              \n",
       "82.74                                           Wii Sports\n",
       "40.24                                    Super Mario Bros.\n",
       "35.82                                       Mario Kart Wii\n",
       "33.00                                    Wii Sports Resort\n",
       "31.37                             Pokemon Red/Pokemon Blue\n",
       "30.26                                               Tetris\n",
       "30.01                                New Super Mario Bros.\n",
       "29.02                                             Wii Play\n",
       "28.62                            New Super Mario Bros. Wii\n",
       "28.31                                            Duck Hunt\n",
       "24.76                                           Nintendogs\n",
       "23.42                                        Mario Kart DS\n",
       "23.10                          Pokemon Gold/Pokemon Silver\n",
       "22.72                                              Wii Fit\n",
       "22.00                                         Wii Fit Plus\n",
       "21.82                                   Kinect Adventures!\n",
       "21.40                                   Grand Theft Auto V\n",
       "20.81                        Grand Theft Auto: San Andreas\n",
       "20.61                                    Super Mario World\n",
       "20.22         Brain Age: Train Your Brain in Minutes a Day"
      ],
      "text/html": "<div>\n<style scoped>\n    .dataframe tbody tr th:only-of-type {\n        vertical-align: middle;\n    }\n\n    .dataframe tbody tr th {\n        vertical-align: top;\n    }\n\n    .dataframe thead th {\n        text-align: right;\n    }\n</style>\n<table border=\"1\" class=\"dataframe\">\n  <thead>\n    <tr style=\"text-align: right;\">\n      <th></th>\n      <th>Name</th>\n    </tr>\n    <tr>\n      <th>Global_Sales</th>\n      <th></th>\n    </tr>\n  </thead>\n  <tbody>\n    <tr>\n      <th>82.74</th>\n      <td>Wii Sports</td>\n    </tr>\n    <tr>\n      <th>40.24</th>\n      <td>Super Mario Bros.</td>\n    </tr>\n    <tr>\n      <th>35.82</th>\n      <td>Mario Kart Wii</td>\n    </tr>\n    <tr>\n      <th>33.00</th>\n      <td>Wii Sports Resort</td>\n    </tr>\n    <tr>\n      <th>31.37</th>\n      <td>Pokemon Red/Pokemon Blue</td>\n    </tr>\n    <tr>\n      <th>30.26</th>\n      <td>Tetris</td>\n    </tr>\n    <tr>\n      <th>30.01</th>\n      <td>New Super Mario Bros.</td>\n    </tr>\n    <tr>\n      <th>29.02</th>\n      <td>Wii Play</td>\n    </tr>\n    <tr>\n      <th>28.62</th>\n      <td>New Super Mario Bros. Wii</td>\n    </tr>\n    <tr>\n      <th>28.31</th>\n      <td>Duck Hunt</td>\n    </tr>\n    <tr>\n      <th>24.76</th>\n      <td>Nintendogs</td>\n    </tr>\n    <tr>\n      <th>23.42</th>\n      <td>Mario Kart DS</td>\n    </tr>\n    <tr>\n      <th>23.10</th>\n      <td>Pokemon Gold/Pokemon Silver</td>\n    </tr>\n    <tr>\n      <th>22.72</th>\n      <td>Wii Fit</td>\n    </tr>\n    <tr>\n      <th>22.00</th>\n      <td>Wii Fit Plus</td>\n    </tr>\n    <tr>\n      <th>21.82</th>\n      <td>Kinect Adventures!</td>\n    </tr>\n    <tr>\n      <th>21.40</th>\n      <td>Grand Theft Auto V</td>\n    </tr>\n    <tr>\n      <th>20.81</th>\n      <td>Grand Theft Auto: San Andreas</td>\n    </tr>\n    <tr>\n      <th>20.61</th>\n      <td>Super Mario World</td>\n    </tr>\n    <tr>\n      <th>20.22</th>\n      <td>Brain Age: Train Your Brain in Minutes a Day</td>\n    </tr>\n  </tbody>\n</table>\n</div>"
     },
     "metadata": {},
     "execution_count": 55
    }
   ],
   "source": [
    "# What are the top 20 highest grossing games?\n",
    "df[['Global_Sales','Name']].set_index('Global_Sales').sort_values('Global_Sales', ascending=False).head(20)\n"
   ]
  },
  {
   "cell_type": "code",
   "execution_count": 67,
   "metadata": {},
   "outputs": [
    {
     "output_type": "execute_result",
     "data": {
      "text/plain": [
       "0.08"
      ]
     },
     "metadata": {},
     "execution_count": 67
    }
   ],
   "source": [
    "# For North American video game sales, what’s the median?\n",
    "median_sales = df['NA_Sales'].median(skipna = True)\n",
    "median_sales\n"
   ]
  },
  {
   "cell_type": "code",
   "execution_count": 66,
   "metadata": {},
   "outputs": [
    {
     "output_type": "execute_result",
     "data": {
      "text/plain": [
       "0.08"
      ]
     },
     "metadata": {},
     "execution_count": 66
    }
   ],
   "source": [
    "# Provide a secondary output showing ten games surrounding the median sales output\n",
    "# median_ten = df['NA_Sales'].median(10)\n",
    "# median_ten\n",
    "\n",
    "# df[['NA_Sales','Name']].set_index('NA_Sales').sort_values('NA_Sales', ascending=False).head(10)\n",
    "\n",
    "# below_median = df[df['NA_Sales'] < df['NA_Sales'].median()][['Name','NA_Sales']].sort_values('NA_Sales').tail(5)\n",
    "\n",
    "median_ten = df['NA_Sales'].median(axis = 0)\n",
    "median_ten\n"
   ]
  },
  {
   "cell_type": "code",
   "execution_count": 58,
   "metadata": {},
   "outputs": [],
   "source": [
    "# assume that games with same median value are sorted in descending order\n"
   ]
  },
  {
   "cell_type": "code",
   "execution_count": 102,
   "metadata": {},
   "outputs": [
    {
     "output_type": "execute_result",
     "data": {
      "text/plain": [
       "         Name  Global_Sales  NA_Sales  Rank\n",
       "0  Wii Sports         82.74     41.49     1"
      ],
      "text/html": "<div>\n<style scoped>\n    .dataframe tbody tr th:only-of-type {\n        vertical-align: middle;\n    }\n\n    .dataframe tbody tr th {\n        vertical-align: top;\n    }\n\n    .dataframe thead th {\n        text-align: right;\n    }\n</style>\n<table border=\"1\" class=\"dataframe\">\n  <thead>\n    <tr style=\"text-align: right;\">\n      <th></th>\n      <th>Name</th>\n      <th>Global_Sales</th>\n      <th>NA_Sales</th>\n      <th>Rank</th>\n    </tr>\n  </thead>\n  <tbody>\n    <tr>\n      <th>0</th>\n      <td>Wii Sports</td>\n      <td>82.74</td>\n      <td>41.49</td>\n      <td>1</td>\n    </tr>\n  </tbody>\n</table>\n</div>"
     },
     "metadata": {},
     "execution_count": 102
    }
   ],
   "source": [
    "# For the top-selling game of all time, how many standard deviations above/below the mean are its sales for North America?\n",
    "\n",
    "# top_seller = df[['NA_Sales', 'Name']].set_index('NA_Sales').sort_values('NA_Sales', ascending=False).head(1)\n",
    "\n",
    "df[['Name', 'Global_Sales','NA_Sales','Rank']].sort_values('Rank').head(1)\n",
    "\n",
    "#display top seller\n",
    "# display NA sames of rank 1, run std\n",
    "\n",
    "#find top seller\n",
    "#find mean of NA sales\n",
    "\n",
    "\n",
    "# top_seller\n",
    "# df.std(axis = 1, skipna = True)\n",
    "\n",
    "\n"
   ]
  },
  {
   "cell_type": "code",
   "execution_count": 110,
   "metadata": {},
   "outputs": [
    {
     "output_type": "execute_result",
     "data": {
      "text/plain": [
       "0.8166830292988796"
      ]
     },
     "metadata": {},
     "execution_count": 110
    }
   ],
   "source": [
    "df['NA_Sales'].std(axis = 0, skipna=True)"
   ]
  },
  {
   "cell_type": "code",
   "execution_count": 98,
   "metadata": {},
   "outputs": [
    {
     "output_type": "execute_result",
     "data": {
      "text/plain": [
       "             Platform\n",
       "Global_Sales         \n",
       "82.74             Wii\n",
       "40.24             NES\n",
       "35.82             Wii\n",
       "33.00             Wii\n",
       "31.37              GB\n",
       "30.26              GB\n",
       "30.01              DS\n",
       "29.02             Wii\n",
       "28.62             Wii\n",
       "28.31             NES\n",
       "24.76              DS\n",
       "23.42              DS\n",
       "23.10              GB\n",
       "22.72             Wii\n",
       "22.00             Wii\n",
       "21.82            X360\n",
       "21.40             PS3\n",
       "20.81             PS2\n",
       "20.61            SNES\n",
       "20.22              DS"
      ],
      "text/html": "<div>\n<style scoped>\n    .dataframe tbody tr th:only-of-type {\n        vertical-align: middle;\n    }\n\n    .dataframe tbody tr th {\n        vertical-align: top;\n    }\n\n    .dataframe thead th {\n        text-align: right;\n    }\n</style>\n<table border=\"1\" class=\"dataframe\">\n  <thead>\n    <tr style=\"text-align: right;\">\n      <th></th>\n      <th>Platform</th>\n    </tr>\n    <tr>\n      <th>Global_Sales</th>\n      <th></th>\n    </tr>\n  </thead>\n  <tbody>\n    <tr>\n      <th>82.74</th>\n      <td>Wii</td>\n    </tr>\n    <tr>\n      <th>40.24</th>\n      <td>NES</td>\n    </tr>\n    <tr>\n      <th>35.82</th>\n      <td>Wii</td>\n    </tr>\n    <tr>\n      <th>33.00</th>\n      <td>Wii</td>\n    </tr>\n    <tr>\n      <th>31.37</th>\n      <td>GB</td>\n    </tr>\n    <tr>\n      <th>30.26</th>\n      <td>GB</td>\n    </tr>\n    <tr>\n      <th>30.01</th>\n      <td>DS</td>\n    </tr>\n    <tr>\n      <th>29.02</th>\n      <td>Wii</td>\n    </tr>\n    <tr>\n      <th>28.62</th>\n      <td>Wii</td>\n    </tr>\n    <tr>\n      <th>28.31</th>\n      <td>NES</td>\n    </tr>\n    <tr>\n      <th>24.76</th>\n      <td>DS</td>\n    </tr>\n    <tr>\n      <th>23.42</th>\n      <td>DS</td>\n    </tr>\n    <tr>\n      <th>23.10</th>\n      <td>GB</td>\n    </tr>\n    <tr>\n      <th>22.72</th>\n      <td>Wii</td>\n    </tr>\n    <tr>\n      <th>22.00</th>\n      <td>Wii</td>\n    </tr>\n    <tr>\n      <th>21.82</th>\n      <td>X360</td>\n    </tr>\n    <tr>\n      <th>21.40</th>\n      <td>PS3</td>\n    </tr>\n    <tr>\n      <th>20.81</th>\n      <td>PS2</td>\n    </tr>\n    <tr>\n      <th>20.61</th>\n      <td>SNES</td>\n    </tr>\n    <tr>\n      <th>20.22</th>\n      <td>DS</td>\n    </tr>\n  </tbody>\n</table>\n</div>"
     },
     "metadata": {},
     "execution_count": 98
    }
   ],
   "source": [
    "# The Nintendo Wii seems to have outdone itself with games. How does its average number of sales compare with all of the other platforms?\n",
    "# df[['Global_Sales','Platform']].set_index('Global_Sales').sort_values('Global_Sales', ascending=False).head(20)\n"
   ]
  },
  {
   "cell_type": "code",
   "execution_count": 61,
   "metadata": {},
   "outputs": [],
   "source": [
    "# Come up with 3 more questions that can be answered with this data set.\n"
   ]
  }
 ]
}